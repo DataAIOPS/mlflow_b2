{
 "cells": [
  {
   "cell_type": "markdown",
   "id": "fafa9c13",
   "metadata": {},
   "source": [
    "#### creare venv\n",
    "python -m venv mlflow_env\n",
    "\n",
    "#### activate venv\n",
    "source mlflow_env/Scripts/activate"
   ]
  },
  {
   "cell_type": "code",
   "execution_count": 10,
   "id": "98131433",
   "metadata": {
    "collapsed": true
   },
   "outputs": [
    {
     "name": "stdout",
     "output_type": "stream",
     "text": [
      "Requirement already satisfied: mlflow in c:\\users\\shubh\\anaconda3\\lib\\site-packages (2.16.2)\n",
      "Requirement already satisfied: mlflow-skinny==2.16.2 in c:\\users\\shubh\\anaconda3\\lib\\site-packages (from mlflow) (2.16.2)\n",
      "Requirement already satisfied: Flask<4 in c:\\users\\shubh\\anaconda3\\lib\\site-packages (from mlflow) (3.0.0)\n",
      "Requirement already satisfied: alembic!=1.10.0,<2 in c:\\users\\shubh\\anaconda3\\lib\\site-packages (from mlflow) (1.12.0)\n",
      "Requirement already satisfied: docker<8,>=4.0.0 in c:\\users\\shubh\\anaconda3\\lib\\site-packages (from mlflow) (6.1.3)\n",
      "Requirement already satisfied: graphene<4 in c:\\users\\shubh\\anaconda3\\lib\\site-packages (from mlflow) (3.3)\n",
      "Requirement already satisfied: markdown<4,>=3.3 in c:\\users\\shubh\\anaconda3\\lib\\site-packages (from mlflow) (3.4.1)\n",
      "Requirement already satisfied: matplotlib<4 in c:\\users\\shubh\\anaconda3\\lib\\site-packages (from mlflow) (3.7.2)\n",
      "Requirement already satisfied: numpy<3 in c:\\users\\shubh\\anaconda3\\lib\\site-packages (from mlflow) (1.26.2)\n",
      "Requirement already satisfied: pandas<3 in c:\\users\\shubh\\anaconda3\\lib\\site-packages (from mlflow) (2.1.4)\n",
      "Requirement already satisfied: pyarrow<18,>=4.0.0 in c:\\users\\shubh\\anaconda3\\lib\\site-packages (from mlflow) (11.0.0)\n",
      "Requirement already satisfied: scikit-learn<2 in c:\\users\\shubh\\anaconda3\\lib\\site-packages (from mlflow) (1.3.0)\n",
      "Requirement already satisfied: scipy<2 in c:\\users\\shubh\\anaconda3\\lib\\site-packages (from mlflow) (1.11.1)\n",
      "Requirement already satisfied: sqlalchemy<3,>=1.4.0 in c:\\users\\shubh\\anaconda3\\lib\\site-packages (from mlflow) (2.0.21)\n",
      "Requirement already satisfied: Jinja2<4,>=3.0 in c:\\users\\shubh\\anaconda3\\lib\\site-packages (from mlflow) (3.1.2)\n",
      "Requirement already satisfied: waitress<4 in c:\\users\\shubh\\anaconda3\\lib\\site-packages (from mlflow) (2.1.2)\n",
      "Requirement already satisfied: cachetools<6,>=5.0.0 in c:\\users\\shubh\\anaconda3\\lib\\site-packages (from mlflow-skinny==2.16.2->mlflow) (5.5.0)\n",
      "Requirement already satisfied: click<9,>=7.0 in c:\\users\\shubh\\anaconda3\\lib\\site-packages (from mlflow-skinny==2.16.2->mlflow) (8.1.7)\n",
      "Requirement already satisfied: cloudpickle<4 in c:\\users\\shubh\\anaconda3\\lib\\site-packages (from mlflow-skinny==2.16.2->mlflow) (2.2.1)\n",
      "Requirement already satisfied: databricks-sdk<1,>=0.20.0 in c:\\users\\shubh\\anaconda3\\lib\\site-packages (from mlflow-skinny==2.16.2->mlflow) (0.33.0)\n",
      "Requirement already satisfied: gitpython<4,>=3.1.9 in c:\\users\\shubh\\anaconda3\\lib\\site-packages (from mlflow-skinny==2.16.2->mlflow) (3.1.37)\n",
      "Requirement already satisfied: importlib-metadata!=4.7.0,<9,>=3.7.0 in c:\\users\\shubh\\anaconda3\\lib\\site-packages (from mlflow-skinny==2.16.2->mlflow) (6.0.0)\n",
      "Requirement already satisfied: opentelemetry-api<3,>=1.9.0 in c:\\users\\shubh\\anaconda3\\lib\\site-packages (from mlflow-skinny==2.16.2->mlflow) (1.21.0)\n",
      "Requirement already satisfied: opentelemetry-sdk<3,>=1.9.0 in c:\\users\\shubh\\anaconda3\\lib\\site-packages (from mlflow-skinny==2.16.2->mlflow) (1.21.0)\n",
      "Requirement already satisfied: packaging<25 in c:\\users\\shubh\\anaconda3\\lib\\site-packages (from mlflow-skinny==2.16.2->mlflow) (23.1)\n",
      "Requirement already satisfied: protobuf<6,>=3.12.0 in c:\\users\\shubh\\anaconda3\\lib\\site-packages (from mlflow-skinny==2.16.2->mlflow) (4.24.3)\n",
      "Requirement already satisfied: pyyaml<7,>=5.1 in c:\\users\\shubh\\anaconda3\\lib\\site-packages (from mlflow-skinny==2.16.2->mlflow) (6.0)\n",
      "Requirement already satisfied: requests<3,>=2.17.3 in c:\\users\\shubh\\anaconda3\\lib\\site-packages (from mlflow-skinny==2.16.2->mlflow) (2.31.0)\n",
      "Requirement already satisfied: sqlparse<1,>=0.4.0 in c:\\users\\shubh\\anaconda3\\lib\\site-packages (from mlflow-skinny==2.16.2->mlflow) (0.4.4)\n",
      "Requirement already satisfied: Mako in c:\\users\\shubh\\anaconda3\\lib\\site-packages (from alembic!=1.10.0,<2->mlflow) (1.2.4)\n",
      "Requirement already satisfied: typing-extensions>=4 in c:\\users\\shubh\\anaconda3\\lib\\site-packages (from alembic!=1.10.0,<2->mlflow) (4.7.1)\n",
      "Requirement already satisfied: urllib3>=1.26.0 in c:\\users\\shubh\\anaconda3\\lib\\site-packages (from docker<8,>=4.0.0->mlflow) (1.26.16)\n",
      "Requirement already satisfied: websocket-client>=0.32.0 in c:\\users\\shubh\\anaconda3\\lib\\site-packages (from docker<8,>=4.0.0->mlflow) (0.58.0)\n",
      "Requirement already satisfied: pywin32>=304 in c:\\users\\shubh\\anaconda3\\lib\\site-packages (from docker<8,>=4.0.0->mlflow) (305.1)\n",
      "Requirement already satisfied: Werkzeug>=3.0.0 in c:\\users\\shubh\\anaconda3\\lib\\site-packages (from Flask<4->mlflow) (3.0.1)\n",
      "Requirement already satisfied: itsdangerous>=2.1.2 in c:\\users\\shubh\\anaconda3\\lib\\site-packages (from Flask<4->mlflow) (2.1.2)\n",
      "Requirement already satisfied: blinker>=1.6.2 in c:\\users\\shubh\\anaconda3\\lib\\site-packages (from Flask<4->mlflow) (1.7.0)\n",
      "Requirement already satisfied: graphql-core<3.3,>=3.1 in c:\\users\\shubh\\anaconda3\\lib\\site-packages (from graphene<4->mlflow) (3.2.4)\n",
      "Requirement already satisfied: graphql-relay<3.3,>=3.1 in c:\\users\\shubh\\anaconda3\\lib\\site-packages (from graphene<4->mlflow) (3.2.0)\n",
      "Requirement already satisfied: aniso8601<10,>=8 in c:\\users\\shubh\\anaconda3\\lib\\site-packages (from graphene<4->mlflow) (9.0.1)\n",
      "Requirement already satisfied: MarkupSafe>=2.0 in c:\\users\\shubh\\anaconda3\\lib\\site-packages (from Jinja2<4,>=3.0->mlflow) (2.1.1)\n",
      "Requirement already satisfied: contourpy>=1.0.1 in c:\\users\\shubh\\anaconda3\\lib\\site-packages (from matplotlib<4->mlflow) (1.0.5)\n",
      "Requirement already satisfied: cycler>=0.10 in c:\\users\\shubh\\anaconda3\\lib\\site-packages (from matplotlib<4->mlflow) (0.11.0)\n",
      "Requirement already satisfied: fonttools>=4.22.0 in c:\\users\\shubh\\anaconda3\\lib\\site-packages (from matplotlib<4->mlflow) (4.25.0)\n",
      "Requirement already satisfied: kiwisolver>=1.0.1 in c:\\users\\shubh\\anaconda3\\lib\\site-packages (from matplotlib<4->mlflow) (1.4.4)\n",
      "Requirement already satisfied: pillow>=6.2.0 in c:\\users\\shubh\\anaconda3\\lib\\site-packages (from matplotlib<4->mlflow) (9.4.0)\n",
      "Requirement already satisfied: pyparsing<3.1,>=2.3.1 in c:\\users\\shubh\\anaconda3\\lib\\site-packages (from matplotlib<4->mlflow) (3.0.9)\n",
      "Requirement already satisfied: python-dateutil>=2.7 in c:\\users\\shubh\\anaconda3\\lib\\site-packages (from matplotlib<4->mlflow) (2.8.2)\n",
      "Requirement already satisfied: pytz>=2020.1 in c:\\users\\shubh\\anaconda3\\lib\\site-packages (from pandas<3->mlflow) (2023.3.post1)\n",
      "Requirement already satisfied: tzdata>=2022.1 in c:\\users\\shubh\\anaconda3\\lib\\site-packages (from pandas<3->mlflow) (2023.3)\n",
      "Requirement already satisfied: joblib>=1.1.1 in c:\\users\\shubh\\anaconda3\\lib\\site-packages (from scikit-learn<2->mlflow) (1.1.1)\n",
      "Requirement already satisfied: threadpoolctl>=2.0.0 in c:\\users\\shubh\\anaconda3\\lib\\site-packages (from scikit-learn<2->mlflow) (2.2.0)\n",
      "Requirement already satisfied: greenlet!=0.4.17 in c:\\users\\shubh\\anaconda3\\lib\\site-packages (from sqlalchemy<3,>=1.4.0->mlflow) (2.0.1)\n",
      "Requirement already satisfied: colorama in c:\\users\\shubh\\anaconda3\\lib\\site-packages (from click<9,>=7.0->mlflow-skinny==2.16.2->mlflow) (0.4.6)\n",
      "Requirement already satisfied: google-auth~=2.0 in c:\\users\\shubh\\anaconda3\\lib\\site-packages (from databricks-sdk<1,>=0.20.0->mlflow-skinny==2.16.2->mlflow) (2.35.0)\n",
      "Requirement already satisfied: gitdb<5,>=4.0.1 in c:\\users\\shubh\\anaconda3\\lib\\site-packages (from gitpython<4,>=3.1.9->mlflow-skinny==2.16.2->mlflow) (4.0.10)\n",
      "Requirement already satisfied: zipp>=0.5 in c:\\users\\shubh\\anaconda3\\lib\\site-packages (from importlib-metadata!=4.7.0,<9,>=3.7.0->mlflow-skinny==2.16.2->mlflow) (3.11.0)\n",
      "Requirement already satisfied: deprecated>=1.2.6 in c:\\users\\shubh\\anaconda3\\lib\\site-packages (from opentelemetry-api<3,>=1.9.0->mlflow-skinny==2.16.2->mlflow) (1.2.14)\n",
      "Requirement already satisfied: opentelemetry-semantic-conventions==0.42b0 in c:\\users\\shubh\\anaconda3\\lib\\site-packages (from opentelemetry-sdk<3,>=1.9.0->mlflow-skinny==2.16.2->mlflow) (0.42b0)\n",
      "Requirement already satisfied: six>=1.5 in c:\\users\\shubh\\anaconda3\\lib\\site-packages (from python-dateutil>=2.7->matplotlib<4->mlflow) (1.16.0)\n",
      "Requirement already satisfied: charset-normalizer<4,>=2 in c:\\users\\shubh\\anaconda3\\lib\\site-packages (from requests<3,>=2.17.3->mlflow-skinny==2.16.2->mlflow) (2.0.4)\n",
      "Requirement already satisfied: idna<4,>=2.5 in c:\\users\\shubh\\anaconda3\\lib\\site-packages (from requests<3,>=2.17.3->mlflow-skinny==2.16.2->mlflow) (3.4)\n",
      "Requirement already satisfied: certifi>=2017.4.17 in c:\\users\\shubh\\anaconda3\\lib\\site-packages (from requests<3,>=2.17.3->mlflow-skinny==2.16.2->mlflow) (2023.7.22)\n",
      "Requirement already satisfied: wrapt<2,>=1.10 in c:\\users\\shubh\\anaconda3\\lib\\site-packages (from deprecated>=1.2.6->opentelemetry-api<3,>=1.9.0->mlflow-skinny==2.16.2->mlflow) (1.14.1)\n",
      "Requirement already satisfied: smmap<6,>=3.0.1 in c:\\users\\shubh\\anaconda3\\lib\\site-packages (from gitdb<5,>=4.0.1->gitpython<4,>=3.1.9->mlflow-skinny==2.16.2->mlflow) (5.0.1)\n",
      "Requirement already satisfied: pyasn1-modules>=0.2.1 in c:\\users\\shubh\\anaconda3\\lib\\site-packages (from google-auth~=2.0->databricks-sdk<1,>=0.20.0->mlflow-skinny==2.16.2->mlflow) (0.2.8)\n",
      "Requirement already satisfied: rsa<5,>=3.1.4 in c:\\users\\shubh\\anaconda3\\lib\\site-packages (from google-auth~=2.0->databricks-sdk<1,>=0.20.0->mlflow-skinny==2.16.2->mlflow) (4.9)\n",
      "Requirement already satisfied: pyasn1<0.5.0,>=0.4.6 in c:\\users\\shubh\\anaconda3\\lib\\site-packages (from pyasn1-modules>=0.2.1->google-auth~=2.0->databricks-sdk<1,>=0.20.0->mlflow-skinny==2.16.2->mlflow) (0.4.8)\n"
     ]
    }
   ],
   "source": [
    "!pip install mlflow"
   ]
  },
  {
   "cell_type": "code",
   "execution_count": 1,
   "id": "3a6bd232",
   "metadata": {},
   "outputs": [],
   "source": [
    "import mlflow"
   ]
  },
  {
   "cell_type": "markdown",
   "id": "17b6f8ef",
   "metadata": {},
   "source": [
    "### create a simple mlflow experiment \n",
    "- after running below cell, you will notice that mlrun folder has been created in same directory\n",
    "- then you can go to gitbash or any terminal and run command => mflow ui => and after that go to localhost:5000 to view the mlflow ui"
   ]
  },
  {
   "cell_type": "code",
   "execution_count": 2,
   "id": "ac93d8bd",
   "metadata": {},
   "outputs": [],
   "source": [
    "with mlflow.start_run():\n",
    "    mlflow.log_param(\"Para1\",\"test_para\")\n",
    "    mlflow.log_param(\"Para2\",\"test_para2\")\n",
    "    mlflow.log_metric(\"Accuracy\",55)\n",
    "    mlflow.log_metric(\"Error\",22)"
   ]
  },
  {
   "cell_type": "markdown",
   "id": "0b7e676e",
   "metadata": {},
   "source": [
    "### set mlflow experiment name and run_name"
   ]
  },
  {
   "cell_type": "code",
   "execution_count": 5,
   "id": "115e44fc",
   "metadata": {},
   "outputs": [],
   "source": [
    "mlflow.set_experiment(\"my_expe\")\n",
    "with mlflow.start_run(run_name=\"my-first-run\"):\n",
    "    mlflow.log_param(\"Para1\",\"test_para\")\n",
    "    mlflow.log_param(\"Para2\",\"test_para2\")\n",
    "    mlflow.log_metric(\"Accuracy\",55)\n",
    "    mlflow.log_metric(\"Error\",22)"
   ]
  },
  {
   "cell_type": "markdown",
   "id": "768df372",
   "metadata": {},
   "source": [
    "### run multiple runs togther\n"
   ]
  },
  {
   "cell_type": "code",
   "execution_count": 7,
   "id": "f0e8523a",
   "metadata": {},
   "outputs": [
    {
     "name": "stderr",
     "output_type": "stream",
     "text": [
      "2024/11/29 08:53:05 INFO mlflow.tracking.fluent: Experiment with name 'my_multi_exp' does not exist. Creating a new experiment.\n"
     ]
    }
   ],
   "source": [
    "mlflow.set_experiment(\"my_multi_exp\")\n",
    "for para, metric in [(\"A\",10.20),(\"B\",30.50),(\"C\",20.75),(\"D\",25.95)]:\n",
    "    with mlflow.start_run(run_name=f\"run={para}\"):\n",
    "        \n",
    "        mlflow.log_param(\"parameter\",para)\n",
    "        \n",
    "        mlflow.log_metric(\"error\",metric)"
   ]
  },
  {
   "cell_type": "code",
   "execution_count": 6,
   "id": "e6446b7d",
   "metadata": {},
   "outputs": [
    {
     "name": "stdout",
     "output_type": "stream",
     "text": [
      "A 10.2\n",
      "B 30.5\n",
      "C 20.75\n",
      "D 25.95\n"
     ]
    }
   ],
   "source": []
  },
  {
   "cell_type": "code",
   "execution_count": null,
   "id": "fd591bb3",
   "metadata": {},
   "outputs": [],
   "source": []
  }
 ],
 "metadata": {
  "kernelspec": {
   "display_name": "Python 3 (ipykernel)",
   "language": "python",
   "name": "python3"
  },
  "language_info": {
   "codemirror_mode": {
    "name": "ipython",
    "version": 3
   },
   "file_extension": ".py",
   "mimetype": "text/x-python",
   "name": "python",
   "nbconvert_exporter": "python",
   "pygments_lexer": "ipython3",
   "version": "3.11.5"
  }
 },
 "nbformat": 4,
 "nbformat_minor": 5
}
